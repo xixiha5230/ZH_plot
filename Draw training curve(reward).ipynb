{
 "cells": [
  {
   "cell_type": "code",
   "execution_count": null,
   "metadata": {
    "pycharm": {
     "name": "#%%\n"
    }
   },
   "outputs": [],
   "source": [
    "import matplotlib.pyplot as plt\n",
    "import pandas as pd\n",
    "import seaborn as sns\n",
    "\n",
    "sns.set(style=\"darkgrid\")\n",
    "\n",
    "\n",
    "def smoothing(data, sm=20):\n",
    "    '''\n",
    "    param data: data\n",
    "    param sm: 滑动窗口大小\n",
    "    return: smoothed data\n",
    "    '''\n",
    "    data_smooth = []\n",
    "    for i in range(len(data)):\n",
    "        index_left = i - int(sm / 2) if (i - int(sm / 2)) >= 0 else 0\n",
    "        index_right = i + int(sm / 2) if (i + int(sm / 2)) < len(data) else len(data) - 1\n",
    "        data_smooth.append(sum(data[index_left:index_right]) / len(data[index_left:index_right]))\n",
    "    return data_smooth\n",
    "\n",
    "\n",
    "def get_max_min_mean(data, sm=20):\n",
    "    '''\n",
    "    param data: data\n",
    "    param sm: 滑动窗口大小\n",
    "    return: max min mean\n",
    "    '''\n",
    "    data_max = []\n",
    "    data_min = []\n",
    "    data_mean = []\n",
    "    for i, j in enumerate(data):\n",
    "        index_left = i - int(sm / 2) if (i - int(sm / 2)) >= 0 else 0\n",
    "        index_right = i + int(sm / 2) if (i + int(sm / 2)) < len(data) else len(data) - 1\n",
    "        data_max.append(max(data[index_left:index_right]))\n",
    "        data_min.append(min(data[index_left:index_right]))\n",
    "        data_mean.append(sum(data[index_left:index_right]) / len(data[index_left:index_right]))\n",
    "    return data_max, data_min, data_mean\n"
   ]
  },
  {
   "cell_type": "code",
   "execution_count": null,
   "metadata": {
    "pycharm": {
     "name": "#%%\n"
    }
   },
   "outputs": [],
   "source": [
    "def draw_line(data_file, label, color, max_min_mean_sm=6, smooth_sm=40, linewidth='1', fill_alpha=0.3):\n",
    "    data = pd.read_csv(filepath_or_buffer=data_file)\n",
    "    data_x = data['Step']\n",
    "    data_y = data['Value']\n",
    "\n",
    "    data_max_y, data_min_y, data_mean_y = get_max_min_mean(data_y, sm=max_min_mean_sm)\n",
    "\n",
    "    data_max_smooth_y = smoothing(data=data_max_y, sm=smooth_sm)\n",
    "    data_min_smooth_y = smoothing(data=data_min_y, sm=smooth_sm)\n",
    "    data_mean_smooth_y = smoothing(data=data_mean_y, sm=smooth_sm)\n",
    "\n",
    "    plt.plot(data_x, data_mean_smooth_y, color=color, label=label, linewidth=linewidth)\n",
    "    plt.fill_between(data_x,\n",
    "                     data_min_smooth_y,\n",
    "                     data_mean_smooth_y,\n",
    "                     facecolor=color,\n",
    "                     alpha=fill_alpha)\n",
    "    plt.fill_between(data_x,\n",
    "                     data_mean_smooth_y,\n",
    "                     data_max_smooth_y,\n",
    "                     facecolor=color,\n",
    "                     alpha=fill_alpha)\n"
   ]
  },
  {
   "cell_type": "code",
   "execution_count": null,
   "metadata": {},
   "outputs": [],
   "source": [
    "def color_generator():\n",
    "    color_table = ['b', 'g', 'r', 'c', 'm', 'y', 'k', 'w']\n",
    "    for c in color_table:\n",
    "        yield c"
   ]
  },
  {
   "cell_type": "code",
   "execution_count": null,
   "metadata": {},
   "outputs": [],
   "source": [
    "import os\n",
    "\n",
    "plt.figure(figsize=(9, 6))\n",
    "\n",
    "path = 'Data'\n",
    "files, labels, colors = [[] for _ in range(3)]\n",
    "color_g = color_generator()\n",
    "smooth_sm = 40\n",
    "max_min_mean_sm = 5\n",
    "linewidth = 1.5\n",
    "fill_alpha = 0.2\n",
    "\n",
    "for file in os.listdir(path):\n",
    "    full_path = os.path.join(path, file)\n",
    "    if os.path.isfile(full_path) and file.endswith('.csv') and not file.startswith('.'):\n",
    "        files.append(full_path)\n",
    "        labels.append(file[:-4])\n",
    "        colors.append(next(color_g))\n",
    "\n",
    "\n",
    "for file, label, color in zip(files, labels, colors):\n",
    "    draw_line(data_file=file,\n",
    "              label=label,\n",
    "              color=color,\n",
    "              max_min_mean_sm=max_min_mean_sm,\n",
    "              smooth_sm=smooth_sm,\n",
    "              linewidth=linewidth,\n",
    "              fill_alpha=fill_alpha)\n",
    "\n",
    "\n",
    "plt.xlabel(\"Update\")\n",
    "plt.ylabel(\"Reward\")\n",
    "plt.legend(loc=\"upper left\")\n",
    "plt.savefig(\"Reward.pdf\", format='pdf', dpi=1200)\n",
    "plt.show()\n"
   ]
  }
 ],
 "metadata": {
  "kernelspec": {
   "display_name": "ppo",
   "language": "python",
   "name": "python3"
  },
  "language_info": {
   "codemirror_mode": {
    "name": "ipython",
    "version": 3
   },
   "file_extension": ".py",
   "mimetype": "text/x-python",
   "name": "python",
   "nbconvert_exporter": "python",
   "pygments_lexer": "ipython3",
   "version": "3.8.15"
  },
  "vscode": {
   "interpreter": {
    "hash": "92bff8c7bb1f8d59cbf9fc94ed099ced0b7f73672a382acc541f68ac42c08b40"
   }
  }
 },
 "nbformat": 4,
 "nbformat_minor": 4
}
